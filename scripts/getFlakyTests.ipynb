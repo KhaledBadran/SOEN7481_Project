{
 "cells": [
  {
   "cell_type": "code",
   "execution_count": 20,
   "id": "a77f8942",
   "metadata": {},
   "outputs": [],
   "source": [
    "import os\n",
    "import sys\n",
    "import ast\n",
    "import json\n",
    "import astor\n",
    "import traceback\n",
    "from tqdm import tqdm\n",
    "from pprint import pprint\n",
    "from analyzer import Analyzer\n",
    "from operator import itemgetter\n",
    "from functionObject import FunctionObject\n",
    "from sklearn.metrics.pairwise import linear_kernel\n",
    "from sklearn.feature_extraction.text import TfidfVectorizer"
   ]
  },
  {
   "cell_type": "code",
   "execution_count": 21,
   "id": "d5b50353",
   "metadata": {},
   "outputs": [],
   "source": [
    "# Main variables\n",
    "# folderPath = sys.argv[1]\n",
    "folderPath ='../data/repos'\n",
    "projectName = folderPath.split(\"/\")[-1]\n",
    "\n",
    "def main():\n",
    "#     checkUsage()\n",
    "    dec=0\n",
    "    syn=0\n",
    "    # Get all python files in the project folder\n",
    "    pythonFiles = findPythonFiles(folderPath)\n",
    "    functionsInProject = []\n",
    "\n",
    "    print(\"Project: \", projectName)\n",
    "    print(\"Number of Python files to analyze: \", len(pythonFiles), \"\\n\")\n",
    "\n",
    "    # For each file, build AST, get function and test objects\n",
    "    for i in tqdm(range(0, len(pythonFiles))):\n",
    "        pythonFilePath = pythonFiles[i]\n",
    "        pythonFile = getPath(pythonFilePath)\n",
    "\n",
    "        # Exceptions\n",
    "        if \"hue\" in projectName and \"/desktop/core/ext-py/\" in pythonFilePath:\n",
    "            continue\n",
    "        if \"jira\" in projectName and \".tox\" in pythonFilePath:\n",
    "            continue\n",
    "\n",
    "        \n",
    "        try:\n",
    "            # Create source code's AST\n",
    "            tree = astor.code_to_ast.parse_file(pythonFilePath)\n",
    "        except SyntaxError:\n",
    "            syn+=1\n",
    "            print(\"Syntax Error in file, skiping. \", pythonFilePath)\n",
    "            continue\n",
    "        except UnicodeDecodeError:\n",
    "            dec+=1\n",
    "            print(\"Decode Error in file, skiping. \", pythonFilePath)\n",
    "            continue\n",
    "        \n",
    "        # Help to find functions' class name\n",
    "        tree = setParents(tree)\n",
    "\n",
    "        # Browse the AST\n",
    "        analyzer = Analyzer()\n",
    "        analyzer.visit(tree)\n",
    "\n",
    "\n",
    "        # Set projectName and fileName for each function, add to list\n",
    "        for function in analyzer.objects:\n",
    "            function.setProjectName(projectName)\n",
    "            function.setFileName(pythonFile[1:])\n",
    "            fileName = function.getFileName().split(\"/\")[-1]\n",
    "            if fileName.startswith(\"test_\") or fileName.endswith(\"_test.py\"):\n",
    "                function.setIsTest(True)\n",
    "            functionsInProject.append(function)\n",
    "\n",
    "    countFunction, countTest, countFlaky, countNonFlaky = getGlobalStatistics(functionsInProject)\n",
    "\n",
    "    # Display statistics\n",
    "    print(\"\\nNumber of Functions: \", countFunction)\n",
    "    print(\"Number of Tests: \", countTest)\n",
    "    print(\"Number of Flaky Tests: \", countFlaky)\n",
    "    print(\"Number of Non Flaky Tests: \", countNonFlaky)\n",
    "    print(\"Syntax Error files {0} and Decode Error files {1}\".format(syn,dec))\n",
    "    # To JSON\n",
    "    functionsInProject = [f.toJSON() for f in functionsInProject]\n",
    "    \n",
    "    \n",
    "    # # Save results to JSON file\n",
    "    for func in functionsInProject:\n",
    "        name=func.get('functionName')\n",
    "        saveResults(func, name)\n",
    "    \n",
    "#     print(functionsInProject)\n",
    "#     Add Most similar methods to each test\n",
    "#     dataset = addCut2Test(functionsInProject)\n",
    "#     print(\"Number of Flaky Tests with CUT added to dataset: \", len(dataset))\n",
    "\n",
    "    # Save results to JSON file\n",
    "#     saveResults(dataset, projectName)\n",
    "    \n",
    "    \n",
    "def getGlobalStatistics(functionsInProject):\n",
    "    # Counter for statistics\n",
    "    countFlaky = 0\n",
    "    countNonFlaky = 0\n",
    "    countTest = 0\n",
    "    countFunction = 0\n",
    "\n",
    "    # Count numbers for the whole list\n",
    "    for obj in functionsInProject:\n",
    "        if obj.getIsTest():\n",
    "            countTest += 1\n",
    "            if obj.getIsMarkedFlaky():\n",
    "                countFlaky += 1\n",
    "                print(obj.getFunctionName(), obj.getClassName(), obj.getFileName())\n",
    "            else:\n",
    "                countNonFlaky += 1\n",
    "        else:\n",
    "            countFunction += 1\n",
    "\n",
    "    return countFunction, countTest, countFlaky, countNonFlaky\n",
    "\n",
    "def findPythonFiles(filepath):\n",
    "    \"\"\"Return a list of all .py files in the given filepath\"\"\"\n",
    "    paths = []\n",
    "    for root, dirs, files in os.walk(filepath):\n",
    "        for file in files:\n",
    "            if file.lower().endswith(\".py\"):\n",
    "                paths.append(os.path.join(root, file))\n",
    "    return paths\n",
    " \n",
    "def setParents(tree):\n",
    "    \"\"\"Add info about parent Node\"\"\"\n",
    "    for node in ast.walk(tree):\n",
    "        for child in ast.iter_child_nodes(node):\n",
    "            child.parent = node\n",
    "    return tree\n",
    "\n",
    "def getPath(pythonFilePath):\n",
    "    \"\"\"Get relative path (intra project)\"\"\"\n",
    "    pythonFile = pythonFilePath.replace(folderPath, '.')\n",
    "    return pythonFile\n",
    "\n",
    "def getTestAndCUT(test, functionsInProject, nb):\n",
    "    \"\"\"\n",
    "    Return a test with its most similar methods, supposed to be part of the CUT.\n",
    "    Parameters\n",
    "    ----------\n",
    "    test: A test object, {ClassName, MethodName, ProjectName, Body, Label:\"test\"}\n",
    "    allMethods: A list of method objects. {ClassName, MethodName, ProjectName, Body, Label:\"method\"}\n",
    "    nb: Number of similar methods to find\n",
    "    Returns\n",
    "    -------\n",
    "    test: A final test object, {ClassName, MethodName, ProjectName, Body, \"test\", cut_1, cut_2...}\n",
    "    \"\"\"\n",
    "\n",
    "    # Init allFunctions\n",
    "    allFunctions = []\n",
    "    for function in functionsInProject:\n",
    "        if function[\"isTest\"] == False:\n",
    "            allFunctions.append(function)\n",
    "\n",
    "    # Build Arrays of bodies\n",
    "    testBody = [ test[\"Body\"] ]\n",
    "    methodsBody = list(map(itemgetter('Body'), allFunctions))\n",
    "\n",
    "    # Vectorize\n",
    "\n",
    "    # To use if you want to deal with CamelCase:\n",
    "    # vectorizer = TfidfVectorizer(preprocessor=CustomPreProcessor)\n",
    "    \n",
    "    # TF-IDF Approach\n",
    "    vectorizer = TfidfVectorizer()\n",
    "    # Fit to all Tests + Methods bodies vocabulary length\n",
    "    vectorizer.fit(testBody+methodsBody)\n",
    "    # Vectorize all Tests, and all Methods based on vector size established line before\n",
    "    X_Test = vectorizer.transform(testBody)\n",
    "    X_Methods = vectorizer.transform(methodsBody)\n",
    "    \n",
    "    # Similarity\n",
    "\n",
    "    # Computing similarities between selected test and all methods\n",
    "    cosine_similarities = linear_kernel(X_Test, X_Methods).flatten()\n",
    "    # Retrieving 5 most similar methods to selected test\n",
    "    similarMethodsIndex = cosine_similarities.argsort()[:-nb-1:-1]\n",
    "    # print(nb, \" most similar methods:\")\n",
    "    # print(similarMethodsIndex)\n",
    "\n",
    "    similarMethods = []\n",
    "    for i in similarMethodsIndex:\n",
    "        # Get whole method based on index of similar method, append to final array\n",
    "        similarMethods.append(allFunctions[i])\n",
    "\n",
    "    newTest = buildTestWithCUT(test, similarMethods)\n",
    "\n",
    "    return newTest\n",
    "\n",
    "def buildTestWithCUT(test, similarMethods):\n",
    "    \"\"\"\n",
    "    Add CUT to a test.\n",
    "    Parameters\n",
    "    ----------\n",
    "    test: The test to add the CUT\n",
    "    similarMethods: The CUT we want to add to the test\n",
    "    Returns\n",
    "    -------\n",
    "    test: The test with its CUT\n",
    "    \"\"\"\n",
    "    c = 1\n",
    "    for method in similarMethods:\n",
    "        keyName = \"CUT_\" + str(c)\n",
    "        test[keyName] = method[\"Body\"]\n",
    "        c += 1\n",
    "    return test\n",
    "\n",
    "def addCut2Test(functionsInProject):\n",
    "    print(\"\\nAdding CUT to tests...\")\n",
    "    dataset = []\n",
    "    # For each function in list\n",
    "    for function in tqdm(functionsInProject):\n",
    "        # If it is a test\n",
    "        if function[\"isTest\"] == True:\n",
    "            # We find its 5 most similar functions\n",
    "            test = function\n",
    "            test = getTestAndCUT(test, functionsInProject, 5)\n",
    "            dataset.append(test)\n",
    "    print(\"Done.\\n\")\n",
    "    return dataset\n",
    "\n",
    "def saveResults(dic, name):\n",
    "    \"\"\"Save results to file\"\"\"\n",
    "    fileName = \"../data/repos\" + name + \".json\"\n",
    "    \n",
    "    with open(fileName, 'w') as json_file:\n",
    "        json.dump(dic, json_file, indent=4) \n",
    "\n",
    "def checkUsage():\n",
    "    \"\"\"Check the programs' arguments\"\"\"\n",
    "    if len(sys.argv) != 2 or not os.path.isdir(sys.argv[1]):\n",
    "        print(\"Usage: python main.py [path/to/project]\")\n",
    "        sys.exit(1)\n"
   ]
  },
  {
   "cell_type": "code",
   "execution_count": 22,
   "id": "b3a2c552",
   "metadata": {},
   "outputs": [
    {
     "name": "stderr",
     "output_type": "stream",
     "text": [
      "\r",
      "  0%|          | 0/6486 [00:00<?, ?it/s]"
     ]
    },
    {
     "name": "stdout",
     "output_type": "stream",
     "text": [
      "Project:  repos\n",
      "Number of Python files to analyze:  6486 \n",
      "\n"
     ]
    },
    {
     "name": "stderr",
     "output_type": "stream",
     "text": [
      "  2%|▏         | 102/6486 [00:00<00:33, 192.05it/s]"
     ]
    },
    {
     "name": "stdout",
     "output_type": "stream",
     "text": [
      "Syntax Error in file, skiping.  ../data/repos/alice1017_&_JustWatch/example_&_run_test.py\n",
      "Syntax Error in file, skiping.  ../data/repos/alice1017_&_JustWatch/tests_&_test_observer.py\n"
     ]
    },
    {
     "name": "stderr",
     "output_type": "stream",
     "text": [
      "\r",
      "  2%|▏         | 124/6486 [00:00<00:41, 153.44it/s]"
     ]
    },
    {
     "name": "stdout",
     "output_type": "stream",
     "text": [
      "Decode Error in file, skiping.  ../data/repos/mideind_&_Icegrams/test_&_test_ngrams.py\n"
     ]
    },
    {
     "name": "stderr",
     "output_type": "stream",
     "text": [
      "  4%|▍         | 284/6486 [00:02<01:00, 101.79it/s]"
     ]
    },
    {
     "name": "stdout",
     "output_type": "stream",
     "text": [
      "Syntax Error in file, skiping.  ../data/repos/maxplanck-ie_&_HiCAssembler/hicassembler_&_test_&_test_Scaffolds.py\n",
      "Decode Error in file, skiping.  ../data/repos/PlaidWeb_&_Publ/tests_&_test_markdown.py\n"
     ]
    },
    {
     "name": "stderr",
     "output_type": "stream",
     "text": [
      "  7%|▋         | 463/6486 [00:04<00:49, 121.78it/s]"
     ]
    },
    {
     "name": "stdout",
     "output_type": "stream",
     "text": [
      "Decode Error in file, skiping.  ../data/repos/openworm_&_PyOpenWorm/tests_&_DocumentTest.py\n"
     ]
    },
    {
     "name": "stderr",
     "output_type": "stream",
     "text": [
      "  8%|▊         | 537/6486 [00:05<00:36, 163.00it/s]"
     ]
    },
    {
     "name": "stdout",
     "output_type": "stream",
     "text": [
      "Decode Error in file, skiping.  ../data/repos/collective_&_Products.EasyNewsletter/src_&_Products_&_EasyNewsletter_&_tests_&_test_issuedatafetcher.py\n",
      "Decode Error in file, skiping.  ../data/repos/collective_&_Products.EasyNewsletter/src_&_Products_&_EasyNewsletter_&_tests_&_test_newsletter.py\n",
      "Decode Error in file, skiping.  ../data/repos/collective_&_Products.EasyNewsletter/src_&_Products_&_EasyNewsletter_&_tests_&_test_placeholder.py\n",
      "Decode Error in file, skiping.  ../data/repos/collective_&_Products.EasyNewsletter/src_&_Products_&_EasyNewsletter_&_tests_&_test_view_subscribers_upload.py\n",
      "Decode Error in file, skiping.  ../data/repos/collective_&_Products.EasyNewsletter/src_&_Products_&_EasyNewsletter_&_tests_&_test_view_subscribers_download.py\n"
     ]
    },
    {
     "name": "stderr",
     "output_type": "stream",
     "text": [
      "  9%|▉         | 576/6486 [00:05<00:43, 135.49it/s]"
     ]
    },
    {
     "name": "stdout",
     "output_type": "stream",
     "text": [
      "Decode Error in file, skiping.  ../data/repos/robertmartin8_&_PyPortfolioOpt/tests_&_test_black_litterman.py\n",
      "Decode Error in file, skiping.  ../data/repos/robertmartin8_&_PyPortfolioOpt/tests_&_test_base_optimizer.py\n",
      "Decode Error in file, skiping.  ../data/repos/frgfm_&_PyroNear/test_&_test_datasets_wildfire.py\n",
      "Decode Error in file, skiping.  ../data/repos/frgfm_&_PyroNear/test_&_test_models.py\n"
     ]
    },
    {
     "name": "stderr",
     "output_type": "stream",
     "text": [
      " 10%|▉         | 618/6486 [00:05<00:40, 145.63it/s]"
     ]
    },
    {
     "name": "stdout",
     "output_type": "stream",
     "text": [
      "Decode Error in file, skiping.  ../data/repos/approvals_&_ApprovalTests.Python/tests_&_test_verify.py\n"
     ]
    },
    {
     "name": "stderr",
     "output_type": "stream",
     "text": [
      " 17%|█▋        | 1125/6486 [00:12<00:45, 118.05it/s]"
     ]
    },
    {
     "name": "stdout",
     "output_type": "stream",
     "text": [
      "Decode Error in file, skiping.  ../data/repos/Patarimi_&_PassiveAutoDesign/tests_&_test_design_accuracy.py\n",
      "Decode Error in file, skiping.  ../data/repos/Patarimi_&_PassiveAutoDesign/tests_&_test_model_accuracy.py\n"
     ]
    },
    {
     "name": "stderr",
     "output_type": "stream",
     "text": [
      " 20%|█▉        | 1289/6486 [00:13<00:32, 162.15it/s]"
     ]
    },
    {
     "name": "stdout",
     "output_type": "stream",
     "text": [
      "Syntax Error in file, skiping.  ../data/repos/amiller_&_HoneyBadgerBFT/test_&_mmr13_test.py\n",
      "Syntax Error in file, skiping.  ../data/repos/amiller_&_HoneyBadgerBFT/test_&_honest_party_test.py\n",
      "Decode Error in file, skiping.  ../data/repos/carlosescri_&_DottedDict/dotted_&_test_&_test_collection.py\n"
     ]
    },
    {
     "name": "stderr",
     "output_type": "stream",
     "text": [
      " 21%|██        | 1344/6486 [00:14<00:26, 191.56it/s]"
     ]
    },
    {
     "name": "stdout",
     "output_type": "stream",
     "text": [
      "Decode Error in file, skiping.  ../data/repos/ArtBIT_&_Droptopus/tests_&_test_target_handling.py\n"
     ]
    },
    {
     "name": "stderr",
     "output_type": "stream",
     "text": [
      "\r",
      " 21%|██        | 1366/6486 [00:14<00:29, 171.24it/s]"
     ]
    },
    {
     "name": "stdout",
     "output_type": "stream",
     "text": [
      "Syntax Error in file, skiping.  ../data/repos/nharringtonwasatch_&_Phidgeter/phidgeter_&_test_relay.py\n",
      "Syntax Error in file, skiping.  ../data/repos/nharringtonwasatch_&_Phidgeter/phidgeter_&_test_irtemp.py\n",
      "Syntax Error in file, skiping.  ../data/repos/nharringtonwasatch_&_Phidgeter/phidgeter_&_test_analog.py\n"
     ]
    },
    {
     "name": "stderr",
     "output_type": "stream",
     "text": [
      " 23%|██▎       | 1480/6486 [00:15<00:42, 117.95it/s]"
     ]
    },
    {
     "name": "stdout",
     "output_type": "stream",
     "text": [
      "Decode Error in file, skiping.  ../data/repos/Liebeck_&_IWNLP-py/tests_&_test_iwnlp_wrapper.py\n"
     ]
    },
    {
     "name": "stderr",
     "output_type": "stream",
     "text": [
      " 24%|██▍       | 1552/6486 [00:15<00:26, 183.91it/s]"
     ]
    },
    {
     "name": "stdout",
     "output_type": "stream",
     "text": [
      "Decode Error in file, skiping.  ../data/repos/ChristianVisintin_&_ATtila/tests_&_test_parser.py\n"
     ]
    },
    {
     "name": "stderr",
     "output_type": "stream",
     "text": [
      " 25%|██▍       | 1596/6486 [00:15<00:34, 141.51it/s]"
     ]
    },
    {
     "name": "stdout",
     "output_type": "stream",
     "text": [
      "Decode Error in file, skiping.  ../data/repos/pmeal_&_OpenPNM/openpnm_&_models_&_phases_&_vapor_pressure.py\n"
     ]
    },
    {
     "name": "stderr",
     "output_type": "stream",
     "text": [
      " 25%|██▌       | 1630/6486 [00:16<00:38, 127.19it/s]"
     ]
    },
    {
     "name": "stdout",
     "output_type": "stream",
     "text": [
      "Decode Error in file, skiping.  ../data/repos/pmeal_&_OpenPNM/openpnm_&_models_&_phases_&_mixtures.py\n",
      "Decode Error in file, skiping.  ../data/repos/pmeal_&_OpenPNM/openpnm_&_models_&_phases_&_permittivity.py\n"
     ]
    },
    {
     "name": "stderr",
     "output_type": "stream",
     "text": [
      " 26%|██▋       | 1708/6486 [00:16<00:31, 153.03it/s]"
     ]
    },
    {
     "name": "stdout",
     "output_type": "stream",
     "text": [
      "Decode Error in file, skiping.  ../data/repos/pmeal_&_OpenPNM/openpnm_&_models_&_geometry_&_pore_seed.py\n"
     ]
    },
    {
     "name": "stderr",
     "output_type": "stream",
     "text": [
      " 27%|██▋       | 1778/6486 [00:17<00:31, 151.33it/s]"
     ]
    },
    {
     "name": "stdout",
     "output_type": "stream",
     "text": [
      "Decode Error in file, skiping.  ../data/repos/pmeal_&_OpenPNM/openpnm_&_models_&_phases_&_viscosity.py\n"
     ]
    },
    {
     "name": "stderr",
     "output_type": "stream",
     "text": [
      " 30%|███       | 1961/6486 [00:18<00:34, 130.09it/s]"
     ]
    },
    {
     "name": "stdout",
     "output_type": "stream",
     "text": [
      "Syntax Error in file, skiping.  ../data/repos/NCAR_&_PyReshaper/source_&_test_&_reshaperTests.py\n",
      "Syntax Error in file, skiping.  ../data/repos/NCAR_&_PyReshaper/source_&_test_&_iobackendTests.py\n",
      "Syntax Error in file, skiping.  ../data/repos/NCAR_&_PyReshaper/source_&_test_&_s2srunTests.py\n"
     ]
    },
    {
     "name": "stderr",
     "output_type": "stream",
     "text": [
      " 35%|███▍      | 2250/6486 [00:20<00:30, 140.16it/s]"
     ]
    },
    {
     "name": "stdout",
     "output_type": "stream",
     "text": [
      "Decode Error in file, skiping.  ../data/repos/MichaelMcAleer_&_PyU4V/PyU4V_&_tests_&_ci_tests_&_test_pyu4v_ci_performance.py\n"
     ]
    },
    {
     "name": "stderr",
     "output_type": "stream",
     "text": [
      " 36%|███▌      | 2332/6486 [00:21<00:32, 126.34it/s]"
     ]
    },
    {
     "name": "stdout",
     "output_type": "stream",
     "text": [
      "Decode Error in file, skiping.  ../data/repos/mcs07_&_ChemDataExtractor/tests_&_test_parse_mp.py\n",
      "Decode Error in file, skiping.  ../data/repos/mcs07_&_ChemDataExtractor/tests_&_test_biblio.py\n",
      "Decode Error in file, skiping.  ../data/repos/mcs07_&_ChemDataExtractor/tests_&_test_extract.py\n"
     ]
    },
    {
     "name": "stderr",
     "output_type": "stream",
     "text": [
      " 37%|███▋      | 2416/6486 [00:22<00:38, 105.07it/s]"
     ]
    },
    {
     "name": "stdout",
     "output_type": "stream",
     "text": [
      "Decode Error in file, skiping.  ../data/repos/Rickecr_&_PyGraph/__tests___&_test_graph.py\n",
      "Decode Error in file, skiping.  ../data/repos/Rickecr_&_PyGraph/__tests___&_test_simple_graph.py\n"
     ]
    },
    {
     "name": "stderr",
     "output_type": "stream",
     "text": [
      " 39%|███▊      | 2507/6486 [00:23<00:28, 139.02it/s]"
     ]
    },
    {
     "name": "stdout",
     "output_type": "stream",
     "text": [
      "Decode Error in file, skiping.  ../data/repos/wannesm_&_PySDD/tests_&_test_iterator.py\n"
     ]
    },
    {
     "name": "stderr",
     "output_type": "stream",
     "text": [
      " 40%|███▉      | 2593/6486 [00:23<00:21, 178.55it/s]"
     ]
    },
    {
     "name": "stdout",
     "output_type": "stream",
     "text": [
      "Decode Error in file, skiping.  ../data/repos/wrohdewald_&_Gpxity/gpxity_&_backends_&_test_&_test_backends.py\n",
      "Decode Error in file, skiping.  ../data/repos/wrohdewald_&_Gpxity/gpxity_&_test_&_test_gpx.py\n",
      "Decode Error in file, skiping.  ../data/repos/wrohdewald_&_Gpxity/gpxity_&_backends_&_test_&_test_track.py\n",
      "Decode Error in file, skiping.  ../data/repos/slott56_&_PyLit-3/test_&_pylit_test.py\n",
      "Decode Error in file, skiping.  ../data/repos/slott56_&_PyLit-3/test_&_pylit_ui_test.py\n",
      "Syntax Error in file, skiping.  ../data/repos/slott56_&_PyLit-3/contribs_&_test_filters.py\n",
      "Syntax Error in file, skiping.  ../data/repos/slott56_&_PyLit-3/contribs_&_pylit_elisp_test.py\n",
      "Decode Error in file, skiping.  ../data/repos/ocaballeror_&_Lyricfetch/lyricfetch_&_tests_&_test_scraping.py\n",
      "Decode Error in file, skiping.  ../data/repos/ocaballeror_&_Lyricfetch/lyricfetch_&_tests_&_test_run.py\n"
     ]
    },
    {
     "name": "stderr",
     "output_type": "stream",
     "text": [
      " 41%|████      | 2630/6486 [00:24<00:25, 150.83it/s]"
     ]
    },
    {
     "name": "stdout",
     "output_type": "stream",
     "text": [
      "Decode Error in file, skiping.  ../data/repos/mozilla_&_PollBot/tests_&_test_tasks.py\n"
     ]
    },
    {
     "name": "stderr",
     "output_type": "stream",
     "text": [
      " 45%|████▍     | 2909/6486 [00:27<00:22, 155.52it/s]"
     ]
    },
    {
     "name": "stdout",
     "output_type": "stream",
     "text": [
      "Decode Error in file, skiping.  ../data/repos/pbx-gs_&_OSBot-AWS/tests_&_unit_&_apis_&_test_Parameter.py\n",
      "Decode Error in file, skiping.  ../data/repos/pbx-gs_&_OSBot-AWS/tests_&_integration_&_test_Lambdas_Invoke.py\n",
      "Decode Error in file, skiping.  ../data/repos/pbx-gs_&_OSBot-AWS/tests_&_unit_&_apis_&_test_CodeBuild.py\n",
      "Syntax Error in file, skiping.  ../data/repos/TokinT-Mac_&_PipeWrench/pipewrench_&_test_&_test_fittings.py\n",
      "Syntax Error in file, skiping.  ../data/repos/TokinT-Mac_&_PipeWrench/pipewrench_&_test_&_test_pipeline.py\n"
     ]
    },
    {
     "name": "stderr",
     "output_type": "stream",
     "text": [
      " 45%|████▌     | 2945/6486 [00:27<00:27, 129.26it/s]"
     ]
    },
    {
     "name": "stdout",
     "output_type": "stream",
     "text": [
      "Decode Error in file, skiping.  ../data/repos/fabioz_&_PyDev.Debugger/tests_python_&_test_extract_token.py\n",
      "Decode Error in file, skiping.  ../data/repos/fabioz_&_PyDev.Debugger/tests_python_&_test_convert_utilities.py\n",
      "Decode Error in file, skiping.  ../data/repos/fabioz_&_PyDev.Debugger/tests_python_&_test_collect_bytecode_info.py\n"
     ]
    },
    {
     "name": "stderr",
     "output_type": "stream",
     "text": [
      " 46%|████▌     | 2974/6486 [00:27<00:32, 108.85it/s]"
     ]
    },
    {
     "name": "stdout",
     "output_type": "stream",
     "text": [
      "Decode Error in file, skiping.  ../data/repos/fabioz_&_PyDev.Debugger/tests_python_&_test_debugger.py\n",
      "Decode Error in file, skiping.  ../data/repos/fabioz_&_PyDev.Debugger/tests_python_&_test_pydev_monkey.py\n",
      "Decode Error in file, skiping.  ../data/repos/PedalPi_&_Application/test_&_controller_&_component_data_controller_test.py\n"
     ]
    },
    {
     "name": "stderr",
     "output_type": "stream",
     "text": [
      " 47%|████▋     | 3048/6486 [00:28<00:38, 89.44it/s] "
     ]
    },
    {
     "name": "stdout",
     "output_type": "stream",
     "text": [
      "Decode Error in file, skiping.  ../data/repos/dcavar_&_Py-JSON-NLP/tests_&_test_conversion.py\n",
      "Syntax Error in file, skiping.  ../data/repos/sonofeft_&_LazGUI/lazgui_&_tests_&_test_laz_gui.py\n"
     ]
    },
    {
     "name": "stderr",
     "output_type": "stream",
     "text": [
      " 48%|████▊     | 3115/6486 [00:28<00:18, 180.94it/s]"
     ]
    },
    {
     "name": "stdout",
     "output_type": "stream",
     "text": [
      "Syntax Error in file, skiping.  ../data/repos/jaredleekatzman_&_DeepSurv/tests_&_test_deepsurv.py\n"
     ]
    },
    {
     "name": "stderr",
     "output_type": "stream",
     "text": [
      " 51%|█████     | 3284/6486 [00:29<00:21, 146.08it/s]"
     ]
    },
    {
     "name": "stdout",
     "output_type": "stream",
     "text": [
      "Decode Error in file, skiping.  ../data/repos/yougov_&_Fuzzy/test_&_test_fuzzy.py\n"
     ]
    },
    {
     "name": "stderr",
     "output_type": "stream",
     "text": [
      " 53%|█████▎    | 3422/6486 [00:31<00:22, 138.68it/s]"
     ]
    },
    {
     "name": "stdout",
     "output_type": "stream",
     "text": [
      "Decode Error in file, skiping.  ../data/repos/ratnania_&_GeLaTo/doc_&_include_&_examples_&_pdes_&_test_pde_3d.py\n",
      "Decode Error in file, skiping.  ../data/repos/ratnania_&_GeLaTo/doc_&_include_&_examples_&_pdes_&_test_pde_2d.py\n",
      "Decode Error in file, skiping.  ../data/repos/ratnania_&_GeLaTo/doc_&_include_&_examples_&_pdes_&_test_pde_1d.py\n",
      "Decode Error in file, skiping.  ../data/repos/bbelyeu_&_Flask-SQLAlchemy-Caching/flask_sqlalchemy_caching_&_tests_&_test_minimal.py\n",
      "Decode Error in file, skiping.  ../data/repos/dougbrion_&_OctoRest/tests_&_test_client.py\n"
     ]
    },
    {
     "name": "stderr",
     "output_type": "stream",
     "text": [
      " 54%|█████▎    | 3482/6486 [00:32<00:15, 189.87it/s]"
     ]
    },
    {
     "name": "stdout",
     "output_type": "stream",
     "text": [
      "Syntax Error in file, skiping.  ../data/repos/FaradayRF_&_Faraday-Software/Device_Test_&_TEST-UART_ECHO.py\n",
      "Syntax Error in file, skiping.  ../data/repos/FaradayRF_&_Faraday-Software/faraday_&_proxyio_&_commandmodule.py\n",
      "Syntax Error in file, skiping.  ../data/repos/FaradayRF_&_Faraday-Software/Tutorials_&_Python_Developer_Tutorials_&_foundation_&_Commanding-Remote-RF_&_Tutorial_Remote_Command.py\n",
      "Syntax Error in file, skiping.  ../data/repos/FaradayRF_&_Faraday-Software/Firmware_Bootstrap_Loader_&_faradaybsl_&_faradaybsl.py\n",
      "Syntax Error in file, skiping.  ../data/repos/FaradayRF_&_Faraday-Software/Firmware_Bootstrap_Loader_&_faradaybsl_&_faradayftdi.py\n",
      "Syntax Error in file, skiping.  ../data/repos/FaradayRF_&_Faraday-Software/Applications_&_simplemessage_&_msg.py\n",
      "Syntax Error in file, skiping.  ../data/repos/FaradayRF_&_Faraday-Software/faraday_&_deviceconfiguration.py\n",
      "Syntax Error in file, skiping.  ../data/repos/FaradayRF_&_Faraday-Software/Device_Test_&_TEST-DIGITAL_OUT.py\n",
      "Syntax Error in file, skiping.  ../data/repos/FaradayRF_&_Faraday-Software/Tutorials_&_start_&_hello-world.py\n",
      "Syntax Error in file, skiping.  ../data/repos/FaradayRF_&_Faraday-Software/Device_Test_&_TEST-VCC.py\n",
      "Syntax Error in file, skiping.  ../data/repos/FaradayRF_&_Faraday-Software/Tutorials_&_Python_Developer_Tutorials_&_foundation_&_Simple_Text_Messaging_&_tx.py\n",
      "Syntax Error in file, skiping.  ../data/repos/FaradayRF_&_Faraday-Software/Tutorials_&_Python_Developer_Tutorials_&_foundation_&_RF-Transmit-Receive-Packet_&_Tutorial_Exp_RF_Packet_TX.py\n",
      "Syntax Error in file, skiping.  ../data/repos/FaradayRF_&_Faraday-Software/Firmware_Bootstrap_Loader_&_faradaybsl_&_createtiscripter.py\n",
      "Syntax Error in file, skiping.  ../data/repos/FaradayRF_&_Faraday-Software/Tutorials_&_Python_Developer_Tutorials_&_foundation_&_Simple_Text_Messaging_&_faraday_msg.py\n",
      "Syntax Error in file, skiping.  ../data/repos/FaradayRF_&_Faraday-Software/faraday_&_proxyio_&_Checksum.py\n",
      "Syntax Error in file, skiping.  ../data/repos/FaradayRF_&_Faraday-Software/Applications_&_simplemessage_&_A_Test_Rx.py\n",
      "Syntax Error in file, skiping.  ../data/repos/FaradayRF_&_Faraday-Software/Tutorials_&_Python_Developer_Tutorials_&_foundation_&_Simple_Text_Messaging_&_rx.py\n",
      "Syntax Error in file, skiping.  ../data/repos/FaradayRF_&_Faraday-Software/Tutorials_&_Python_Developer_Tutorials_&_foundation_&_RF-Transmit-Receive-Packet_&_Tutorial_Exp_RF_Packet_RX.py\n",
      "Syntax Error in file, skiping.  ../data/repos/FaradayRF_&_Faraday-Software/Tutorials_&_Python_Developer_Tutorials_&_foundation_&_Simple_Text_Messaging_&_tx_user_input.py\n",
      "Syntax Error in file, skiping.  ../data/repos/FaradayRF_&_Faraday-Software/Debug_&_Proxy_DEBUG_RX.py\n",
      "Syntax Error in file, skiping.  ../data/repos/FaradayRF_&_Faraday-Software/Device_Test_&_devicetest.py\n",
      "Syntax Error in file, skiping.  ../data/repos/FaradayRF_&_Faraday-Software/faraday_&_proxyio_&_cc430radioconfig.py\n",
      "Syntax Error in file, skiping.  ../data/repos/FaradayRF_&_Faraday-Software/Applications_&_simplemessage_&_B_Test_Tx_User_Input.py\n",
      "Syntax Error in file, skiping.  ../data/repos/FaradayRF_&_Faraday-Software/Applications_&_deviceconfiguration_&_readconfig.py\n",
      "Syntax Error in file, skiping.  ../data/repos/FaradayRF_&_Faraday-Software/faraday_&_proxyio_&_faradaybasicproxyio.py\n",
      "Syntax Error in file, skiping.  ../data/repos/FaradayRF_&_Faraday-Software/Tutorials_&_Python_Developer_Tutorials_&_foundation_&_Simple_Text_Messaging_Creating_Objects_&_message_application_example.py\n",
      "Syntax Error in file, skiping.  ../data/repos/FaradayRF_&_Faraday-Software/Applications_&_simplemessage_&_faraday_msg.py\n",
      "Syntax Error in file, skiping.  ../data/repos/FaradayRF_&_Faraday-Software/Device_Test_&_TEST-ADC.py\n",
      "Syntax Error in file, skiping.  ../data/repos/FaradayRF_&_Faraday-Software/Applications_&_Hermes_&_hermesflaskexample_rx.py\n",
      "Syntax Error in file, skiping.  ../data/repos/FaradayRF_&_Faraday-Software/Device_Test_&_TEST-MOSFET.py\n",
      "Syntax Error in file, skiping.  ../data/repos/FaradayRF_&_Faraday-Software/Tutorials_&_Python_Developer_Tutorials_&_foundation_&_Telemetry-Parsing_&_Tutorial_Telemetry_Parsing.py\n"
     ]
    },
    {
     "name": "stderr",
     "output_type": "stream",
     "text": [
      " 55%|█████▍    | 3554/6486 [00:32<00:11, 264.77it/s]"
     ]
    },
    {
     "name": "stdout",
     "output_type": "stream",
     "text": [
      "Syntax Error in file, skiping.  ../data/repos/FaradayRF_&_Faraday-Software/Tutorials_&_Python_Developer_Tutorials_&_foundation_&_RF-Transmit-Receive-Packet_&_Tutorial_Exp_RF_Packet_TX-User-Input.py\n",
      "Syntax Error in file, skiping.  ../data/repos/FaradayRF_&_Faraday-Software/Device_Test_&_TEST-FLASH_DEBUG.py\n",
      "Syntax Error in file, skiping.  ../data/repos/FaradayRF_&_Faraday-Software/Tutorials_&_Python_Developer_Tutorials_&_miscellaneous_&_Factory-Reset-Configuration_&_Factory_Reset.py\n",
      "Syntax Error in file, skiping.  ../data/repos/FaradayRF_&_Faraday-Software/faraday_&_hermesflaskserver.py\n",
      "Syntax Error in file, skiping.  ../data/repos/FaradayRF_&_Faraday-Software/Tutorials_&_Python_Developer_Tutorials_&_miscellaneous_&_Device-Configuration_&_Tutorial_Device_Configuration.py\n",
      "Syntax Error in file, skiping.  ../data/repos/FaradayRF_&_Faraday-Software/faraday_&_hermes_&_hermesmessage.py\n",
      "Syntax Error in file, skiping.  ../data/repos/FaradayRF_&_Faraday-Software/Tutorials_&_Python_Developer_Tutorials_&_foundation_&_Commanding-Local_&_Proxy-Local-Commands-Tutorial.py\n",
      "Syntax Error in file, skiping.  ../data/repos/FaradayRF_&_Faraday-Software/faraday_&_proxyio_&_telemetryparser.py\n",
      "Syntax Error in file, skiping.  ../data/repos/FaradayRF_&_Faraday-Software/Tutorials_&_Python_Developer_Tutorials_&_foundation_&_Simple_Text_Messaging_Creating_Objects_&_faraday_msg.py\n",
      "Syntax Error in file, skiping.  ../data/repos/FaradayRF_&_Faraday-Software/faraday_&_proxyio_&_deviceconfig.py\n"
     ]
    },
    {
     "name": "stderr",
     "output_type": "stream",
     "text": [
      "\r",
      " 55%|█████▌    | 3586/6486 [00:32<00:13, 214.11it/s]"
     ]
    },
    {
     "name": "stdout",
     "output_type": "stream",
     "text": [
      "Decode Error in file, skiping.  ../data/repos/pbx-gs_&_OSBot-GSuite/deploy_&_test_Deploy_Lambda_Functions.py\n"
     ]
    },
    {
     "name": "stderr",
     "output_type": "stream",
     "text": [
      " 57%|█████▋    | 3697/6486 [00:33<00:13, 212.83it/s]"
     ]
    },
    {
     "name": "stdout",
     "output_type": "stream",
     "text": [
      "Decode Error in file, skiping.  ../data/repos/iurisilvio_&_Flask-SQLAlchemy-Cache/flask_sqlalchemy_cache_&_tests_&_test_minimal.py\n",
      "Decode Error in file, skiping.  ../data/repos/insha_&_Flux/tests_&_test_errors.py\n",
      "Decode Error in file, skiping.  ../data/repos/insha_&_Flux/tests_&_test_state.py\n",
      "Decode Error in file, skiping.  ../data/repos/insha_&_Flux/tests_&_test_event.py\n",
      "Decode Error in file, skiping.  ../data/repos/insha_&_Flux/tests_&_test_state_machine.py\n",
      "Decode Error in file, skiping.  ../data/repos/insha_&_Flux/tests_&_test_helpers.py\n",
      "Decode Error in file, skiping.  ../data/repos/konzy_&_CSC440-Wiki-Project/tests_&_test_core.py\n",
      "Syntax Error in file, skiping.  ../data/repos/ardiloot_&_NonlinearTMM/Tests_&_test_SPDC.py\n"
     ]
    },
    {
     "name": "stderr",
     "output_type": "stream",
     "text": [
      " 58%|█████▊    | 3781/6486 [00:34<00:45, 59.67it/s] "
     ]
    },
    {
     "name": "stdout",
     "output_type": "stream",
     "text": [
      "Decode Error in file, skiping.  ../data/repos/andrewferlitsch_&_Gap/tests_&_words_test.py\n"
     ]
    },
    {
     "name": "stderr",
     "output_type": "stream",
     "text": [
      " 59%|█████▉    | 3832/6486 [00:35<00:34, 76.85it/s]"
     ]
    },
    {
     "name": "stdout",
     "output_type": "stream",
     "text": [
      "Syntax Error in file, skiping.  ../data/repos/Zebfred_&_DS-OOP-Review/Tests_&_datafunction_test.py\n",
      "Decode Error in file, skiping.  ../data/repos/capitalone_&_Data-Load-and-Copy-using-Python/tests_&_test_integration.py\n"
     ]
    },
    {
     "name": "stderr",
     "output_type": "stream",
     "text": [
      "\r",
      " 59%|█████▉    | 3846/6486 [00:35<00:31, 83.26it/s]"
     ]
    },
    {
     "name": "stdout",
     "output_type": "stream",
     "text": [
      "Decode Error in file, skiping.  ../data/repos/capitalone_&_Data-Load-and-Copy-using-Python/tests_&_test_integration_sf.py\n"
     ]
    },
    {
     "name": "stderr",
     "output_type": "stream",
     "text": [
      " 60%|█████▉    | 3876/6486 [00:35<00:31, 82.16it/s]"
     ]
    },
    {
     "name": "stdout",
     "output_type": "stream",
     "text": [
      "Decode Error in file, skiping.  ../data/repos/robmarkcole_&_HASS-data-detective/tests_&_test_functions.py\n"
     ]
    },
    {
     "name": "stderr",
     "output_type": "stream",
     "text": [
      " 61%|██████    | 3936/6486 [00:36<00:20, 125.32it/s]"
     ]
    },
    {
     "name": "stdout",
     "output_type": "stream",
     "text": [
      "Syntax Error in file, skiping.  ../data/repos/qwilka_&_PDover2t/examples_&_pipe_&_pipe_props_test.py\n",
      "Decode Error in file, skiping.  ../data/repos/RobertoPrevato_&_BlackSheep/tests_&_test_multipart.py\n"
     ]
    },
    {
     "name": "stderr",
     "output_type": "stream",
     "text": [
      " 62%|██████▏   | 4005/6486 [00:36<00:24, 100.30it/s]"
     ]
    },
    {
     "name": "stdout",
     "output_type": "stream",
     "text": [
      "Syntax Error in file, skiping.  ../data/repos/intel-analytics_&_Bigdl/pyspark_&_test_&_bigdl_&_caffe_&_test_caffe_layers.py\n"
     ]
    },
    {
     "name": "stderr",
     "output_type": "stream",
     "text": [
      " 62%|██████▏   | 4038/6486 [00:37<00:24, 100.88it/s]"
     ]
    },
    {
     "name": "stdout",
     "output_type": "stream",
     "text": [
      "Decode Error in file, skiping.  ../data/repos/apmoore1_&_Bella/tests_&_test_dependency_parsers.py\n",
      "Decode Error in file, skiping.  ../data/repos/apmoore1_&_Bella/tests_&_test_syntactic_contexts.py\n",
      "Syntax Error in file, skiping.  ../data/repos/SalemHarrache_&_PyVantagePro/pyvantagepro_&_tests_&_test_parser.py\n"
     ]
    },
    {
     "name": "stderr",
     "output_type": "stream",
     "text": [
      " 64%|██████▎   | 4132/6486 [00:38<00:45, 52.26it/s] "
     ]
    },
    {
     "name": "stdout",
     "output_type": "stream",
     "text": [
      "Decode Error in file, skiping.  ../data/repos/ZELLMECHANIK-DRESDEN_&_DCKit/tests_&_test_history.py\n"
     ]
    },
    {
     "name": "stderr",
     "output_type": "stream",
     "text": [
      " 66%|██████▌   | 4272/6486 [00:39<00:14, 155.91it/s]"
     ]
    },
    {
     "name": "stdout",
     "output_type": "stream",
     "text": [
      "Decode Error in file, skiping.  ../data/repos/ACCLAB_&_DABEST-python/dabest_&_tests_&_test_01_effsizes_pvals.py\n"
     ]
    },
    {
     "name": "stderr",
     "output_type": "stream",
     "text": [
      "\r",
      " 66%|██████▌   | 4293/6486 [00:39<00:13, 160.90it/s]"
     ]
    },
    {
     "name": "stdout",
     "output_type": "stream",
     "text": [
      "Decode Error in file, skiping.  ../data/repos/toros-astro_&_ProperImage/test_&_test_real_coadd.py\n"
     ]
    },
    {
     "name": "stderr",
     "output_type": "stream",
     "text": [
      " 69%|██████▊   | 4444/6486 [00:40<00:10, 193.32it/s]"
     ]
    },
    {
     "name": "stdout",
     "output_type": "stream",
     "text": [
      "Decode Error in file, skiping.  ../data/repos/DrSerpent_&_DrSerpent/tests_&_test_expect.py\n"
     ]
    },
    {
     "name": "stderr",
     "output_type": "stream",
     "text": [
      " 70%|███████   | 4553/6486 [00:41<00:24, 78.06it/s] "
     ]
    },
    {
     "name": "stdout",
     "output_type": "stream",
     "text": [
      "Decode Error in file, skiping.  ../data/repos/Lasagne_&_Lasagne/lasagne_&_tests_&_layers_&_test_normalization.py\n",
      "Decode Error in file, skiping.  ../data/repos/Lasagne_&_Lasagne/lasagne_&_nonlinearities.py\n"
     ]
    },
    {
     "name": "stderr",
     "output_type": "stream",
     "text": [
      "\r",
      " 70%|███████   | 4564/6486 [00:42<00:28, 67.91it/s]"
     ]
    },
    {
     "name": "stdout",
     "output_type": "stream",
     "text": [
      "Decode Error in file, skiping.  ../data/repos/Lasagne_&_Lasagne/lasagne_&_layers_&_recurrent.py\n",
      "Decode Error in file, skiping.  ../data/repos/Lasagne_&_Lasagne/lasagne_&_layers_&_normalization.py\n"
     ]
    },
    {
     "name": "stderr",
     "output_type": "stream",
     "text": [
      " 71%|███████   | 4619/6486 [00:42<00:18, 103.69it/s]"
     ]
    },
    {
     "name": "stdout",
     "output_type": "stream",
     "text": [
      "Decode Error in file, skiping.  ../data/repos/jantman_&_AutoSimulationCraft/autosimulationcraft_&_tests_&_test_autosimulationcraft.py\n"
     ]
    },
    {
     "name": "stderr",
     "output_type": "stream",
     "text": [
      " 73%|███████▎  | 4757/6486 [00:43<00:08, 201.38it/s]"
     ]
    },
    {
     "name": "stdout",
     "output_type": "stream",
     "text": [
      "Decode Error in file, skiping.  ../data/repos/BinetReseau_&_Kaoz/kaoz_&_tests_&_test_publisher.py\n",
      "Decode Error in file, skiping.  ../data/repos/BinetReseau_&_Kaoz/kaoz_&_tests_&_test_listener.py\n",
      "Decode Error in file, skiping.  ../data/repos/BinetReseau_&_Kaoz/kaoz_&_tests_&_test_basic.py\n"
     ]
    },
    {
     "name": "stderr",
     "output_type": "stream",
     "text": [
      " 74%|███████▍  | 4820/6486 [00:43<00:11, 147.25it/s]"
     ]
    },
    {
     "name": "stdout",
     "output_type": "stream",
     "text": [
      "Decode Error in file, skiping.  ../data/repos/ScottMorse_&_PyMusician/pymusician_&_test_&_test_chord.py\n"
     ]
    },
    {
     "name": "stderr",
     "output_type": "stream",
     "text": [
      " 75%|███████▌  | 4866/6486 [00:44<00:09, 174.55it/s]"
     ]
    },
    {
     "name": "stdout",
     "output_type": "stream",
     "text": [
      "Decode Error in file, skiping.  ../data/repos/HELMpy_&_HELMpy/test_&_test_helm.py\n"
     ]
    },
    {
     "name": "stderr",
     "output_type": "stream",
     "text": [
      " 76%|███████▌  | 4944/6486 [00:44<00:08, 172.76it/s]"
     ]
    },
    {
     "name": "stdout",
     "output_type": "stream",
     "text": [
      "Decode Error in file, skiping.  ../data/repos/AntoineToubhans_&_MongoTs/test_&_database_test.py\n",
      "Decode Error in file, skiping.  ../data/repos/AntoineToubhans_&_MongoTs/test_&_metadata_test.py\n"
     ]
    },
    {
     "name": "stderr",
     "output_type": "stream",
     "text": [
      " 78%|███████▊  | 5066/6486 [00:45<00:08, 175.20it/s]"
     ]
    },
    {
     "name": "stdout",
     "output_type": "stream",
     "text": [
      "Decode Error in file, skiping.  ../data/repos/vivekgoyanka_&_osipiconnect/test_&_test_data.py\n",
      "Decode Error in file, skiping.  ../data/repos/vivekgoyanka_&_osipiconnect/test_&_test_webids.py\n",
      "Decode Error in file, skiping.  ../data/repos/vivekgoyanka_&_osipiconnect/test_&_test_main.py\n"
     ]
    },
    {
     "name": "stderr",
     "output_type": "stream",
     "text": [
      " 79%|███████▉  | 5142/6486 [00:46<00:10, 128.81it/s]"
     ]
    },
    {
     "name": "stdout",
     "output_type": "stream",
     "text": [
      "Decode Error in file, skiping.  ../data/repos/HDI-Project_&_MLPrimitives/tests_&_custom_&_test_text.py\n",
      "Syntax Error in file, skiping.  ../data/repos/Jvlythical_&_KodeDrive/tests_&_test_autostart.py\n",
      "Syntax Error in file, skiping.  ../data/repos/Jvlythical_&_KodeDrive/tests_&_test_cli.py\n",
      "Syntax Error in file, skiping.  ../data/repos/Jvlythical_&_KodeDrive/tests_&_test_syncthing_factory.py\n"
     ]
    },
    {
     "name": "stderr",
     "output_type": "stream",
     "text": [
      " 81%|████████  | 5256/6486 [00:47<00:13, 89.58it/s] "
     ]
    },
    {
     "name": "stdout",
     "output_type": "stream",
     "text": [
      "Syntax Error in file, skiping.  ../data/repos/jsli_&_NIM_API_Python/netease_im_&_tests_&_netease_im_&_components_&_test_friend.py\n",
      "Syntax Error in file, skiping.  ../data/repos/jsli_&_NIM_API_Python/netease_im_&_tests_&_netease_im_&_components_&_test_user.py\n",
      "Syntax Error in file, skiping.  ../data/repos/jsli_&_NIM_API_Python/netease_im_&_tests_&_netease_im_&_components_&_test_event.py\n",
      "Syntax Error in file, skiping.  ../data/repos/jsli_&_NIM_API_Python/netease_im_&_tests_&_netease_im_&_components_&_test_message.py\n",
      "Syntax Error in file, skiping.  ../data/repos/jsli_&_NIM_API_Python/netease_im_&_tests_&_netease_im_&_components_&_test_history.py\n"
     ]
    },
    {
     "name": "stderr",
     "output_type": "stream",
     "text": [
      " 82%|████████▏ | 5325/6486 [00:48<00:10, 112.30it/s]"
     ]
    },
    {
     "name": "stdout",
     "output_type": "stream",
     "text": [
      "Decode Error in file, skiping.  ../data/repos/ironmussa_&_Optimus/tests_&_test_dataframe.py\n",
      "Decode Error in file, skiping.  ../data/repos/ironmussa_&_Optimus/tests_&_test_df_keycollision.py\n",
      "Decode Error in file, skiping.  ../data/repos/ironmussa_&_Optimus/examples_&_10_min_from_pandas_to_spark_with_optimus.py\n",
      "Syntax Error in file, skiping.  ../data/repos/ironmussa_&_Optimus/examples_&_profiler.py\n",
      "Decode Error in file, skiping.  ../data/repos/ironmussa_&_Optimus/tests_&_test_df_rows.py\n",
      "Decode Error in file, skiping.  ../data/repos/ironmussa_&_Optimus/tests_&_test_op_io.py\n",
      "Decode Error in file, skiping.  ../data/repos/ironmussa_&_Optimus/tests_&_test_profiler.py\n",
      "Decode Error in file, skiping.  ../data/repos/ironmussa_&_Optimus/tests_&_creator_&_creator-profiler.py\n",
      "Decode Error in file, skiping.  ../data/repos/ironmussa_&_Optimus/tests_&_test_df_distance_cluster.py\n",
      "Decode Error in file, skiping.  ../data/repos/ironmussa_&_Optimus/tests_&_test_df_cols.py\n",
      "Decode Error in file, skiping.  ../data/repos/ironmussa_&_Optimus/examples_&_column.py\n",
      "Decode Error in file, skiping.  ../data/repos/ironmussa_&_Optimus/tests_&_test_meta.py\n",
      "Decode Error in file, skiping.  ../data/repos/ironmussa_&_Optimus/tests_&_test_df_profiler.py\n",
      "Decode Error in file, skiping.  ../data/repos/ironmussa_&_Optimus/tests_&_test_plot.py\n",
      "Decode Error in file, skiping.  ../data/repos/ironmussa_&_Optimus/tests_&_test_sql.py\n",
      "Decode Error in file, skiping.  ../data/repos/ironmussa_&_Optimus/examples_&_hacking_optimus.py\n",
      "Decode Error in file, skiping.  ../data/repos/ironmussa_&_Optimus/tests_&_creator_&_creator.py\n",
      "Decode Error in file, skiping.  ../data/repos/ironmussa_&_Optimus/tests_&_test_df_outliers.py\n",
      "Decode Error in file, skiping.  ../data/repos/ironmussa_&_Optimus/tests_&_test_df_cols_2.py\n"
     ]
    },
    {
     "name": "stderr",
     "output_type": "stream",
     "text": [
      " 83%|████████▎ | 5368/6486 [00:48<00:08, 133.28it/s]"
     ]
    },
    {
     "name": "stdout",
     "output_type": "stream",
     "text": [
      "Decode Error in file, skiping.  ../data/repos/DasIch_&_argvard/tests_&_test_annotations.py\n",
      "Decode Error in file, skiping.  ../data/repos/DasIch_&_argvard/tests_&_test_utils.py\n",
      "Decode Error in file, skiping.  ../data/repos/DasIch_&_argvard/tests_&_test_init.py\n"
     ]
    },
    {
     "name": "stderr",
     "output_type": "stream",
     "text": [
      " 84%|████████▍ | 5433/6486 [00:49<00:08, 128.79it/s]"
     ]
    },
    {
     "name": "stdout",
     "output_type": "stream",
     "text": [
      "Decode Error in file, skiping.  ../data/repos/iuliux_&_PyReadableDiff/pydiff_&_tests_&_test_word.py\n"
     ]
    },
    {
     "name": "stderr",
     "output_type": "stream",
     "text": [
      " 84%|████████▍ | 5479/6486 [00:49<00:06, 150.19it/s]"
     ]
    },
    {
     "name": "stdout",
     "output_type": "stream",
     "text": [
      "Decode Error in file, skiping.  ../data/repos/moonso_&_Mip_Family_Analysis/tests_&_test_variant_parser.py\n",
      "Decode Error in file, skiping.  ../data/repos/moonso_&_Mip_Family_Analysis/tests_&_test_family_parser.py\n",
      "Decode Error in file, skiping.  ../data/repos/moonso_&_Mip_Family_Analysis/tests_&_test_models_sick_father.py\n",
      "Decode Error in file, skiping.  ../data/repos/moonso_&_Mip_Family_Analysis/tests_&_test_models_compound.py\n",
      "Decode Error in file, skiping.  ../data/repos/moonso_&_Mip_Family_Analysis/tests_&_test_models_x_linked.py\n",
      "Decode Error in file, skiping.  ../data/repos/moonso_&_Mip_Family_Analysis/tests_&_test_is_number.py\n",
      "Decode Error in file, skiping.  ../data/repos/moonso_&_Mip_Family_Analysis/tests_&_test_models_no_model.py\n",
      "Decode Error in file, skiping.  ../data/repos/moonso_&_Mip_Family_Analysis/tests_&_test_family.py\n",
      "Decode Error in file, skiping.  ../data/repos/moonso_&_Mip_Family_Analysis/tests_&_test_models_recessive.py\n",
      "Decode Error in file, skiping.  ../data/repos/moonso_&_Mip_Family_Analysis/tests_&_test_genotype.py\n",
      "Decode Error in file, skiping.  ../data/repos/moonso_&_Mip_Family_Analysis/tests_&_test_pair_generator.py\n",
      "Decode Error in file, skiping.  ../data/repos/moonso_&_Mip_Family_Analysis/tests_&_test_indivdual.py\n",
      "Decode Error in file, skiping.  ../data/repos/AFM-analysis_&_PyJibe/tests_&_test_fd_fit_model_expr.py\n"
     ]
    },
    {
     "name": "stderr",
     "output_type": "stream",
     "text": [
      "\r",
      " 85%|████████▍ | 5495/6486 [00:49<00:08, 119.08it/s]"
     ]
    },
    {
     "name": "stdout",
     "output_type": "stream",
     "text": [
      "Decode Error in file, skiping.  ../data/repos/mattiaverga_&_PyOngc/tests_&_scripts_&_test_ongc.py\n",
      "Decode Error in file, skiping.  ../data/repos/mattiaverga_&_PyOngc/tests_&_test_ongc.py\n"
     ]
    },
    {
     "name": "stderr",
     "output_type": "stream",
     "text": [
      " 86%|████████▌ | 5594/6486 [00:55<00:19, 46.90it/s] "
     ]
    },
    {
     "name": "stdout",
     "output_type": "stream",
     "text": [
      "Decode Error in file, skiping.  ../data/repos/Rickecr_&_PyElit/__tests___&_test_geoparsing.py\n",
      "Decode Error in file, skiping.  ../data/repos/Rickecr_&_PyElit/__tests___&_test_topic_modeling.py\n",
      "Decode Error in file, skiping.  ../data/repos/CFMTech_&_Jupytab/jupytab_&_tests_&_test_util.py\n",
      "Decode Error in file, skiping.  ../data/repos/CFMTech_&_Jupytab/jupytab_&_tests_&_test_dataframe.py\n"
     ]
    },
    {
     "name": "stderr",
     "output_type": "stream",
     "text": [
      " 87%|████████▋ | 5672/6486 [00:55<00:08, 101.51it/s]"
     ]
    },
    {
     "name": "stdout",
     "output_type": "stream",
     "text": [
      "Decode Error in file, skiping.  ../data/repos/Brainlabs-Digital_&_Brainlabs-YAML-Generator/tests_&_validators_test.py\n",
      "Decode Error in file, skiping.  ../data/repos/nielstron_&_pyblnet_&_/pyblnet_&_blnet_web.py\n",
      "Decode Error in file, skiping.  ../data/repos/PatrikHlobil_&_Pandas-Bokeh/Tests_&_test_PandasBokeh.py\n",
      "Decode Error in file, skiping.  ../data/repos/Slowblitz_&_GUID-core/scripts_&_GUID_CORE_&_test_&_test_GUID2.py\n"
     ]
    },
    {
     "name": "stderr",
     "output_type": "stream",
     "text": [
      " 88%|████████▊ | 5707/6486 [00:55<00:07, 102.78it/s]"
     ]
    },
    {
     "name": "stdout",
     "output_type": "stream",
     "text": [
      "Decode Error in file, skiping.  ../data/repos/whiteclover_&_Choco/test_&_test_util.py\n"
     ]
    },
    {
     "name": "stderr",
     "output_type": "stream",
     "text": [
      " 89%|████████▉ | 5787/6486 [00:56<00:03, 188.06it/s]"
     ]
    },
    {
     "name": "stdout",
     "output_type": "stream",
     "text": [
      "Syntax Error in file, skiping.  ../data/repos/HumanBrainProject_&_PyJuGEx/test_&_test_e2e.py\n",
      "Syntax Error in file, skiping.  ../data/repos/HumanBrainProject_&_PyJuGEx/test_&_test_pyjugex.py\n",
      "Syntax Error in file, skiping.  ../data/repos/HumanBrainProject_&_PyJuGEx/test_&_test_util.py\n"
     ]
    },
    {
     "name": "stderr",
     "output_type": "stream",
     "text": [
      "\r",
      " 90%|████████▉ | 5811/6486 [00:56<00:04, 135.25it/s]"
     ]
    },
    {
     "name": "stdout",
     "output_type": "stream",
     "text": [
      "Decode Error in file, skiping.  ../data/repos/nansencenter_&_DAPPER/tests_&_test_example_2.py\n"
     ]
    },
    {
     "name": "stderr",
     "output_type": "stream",
     "text": [
      "\r",
      " 90%|████████▉ | 5830/6486 [00:56<00:04, 132.79it/s]"
     ]
    },
    {
     "name": "stdout",
     "output_type": "stream",
     "text": [
      "Decode Error in file, skiping.  ../data/repos/batflyer_&_FanFiction-Collaborative-Filtering/ffscraper_&_tests_&_ffscrapertests_&_test_nlp_index.py\n"
     ]
    },
    {
     "name": "stderr",
     "output_type": "stream",
     "text": [
      " 92%|█████████▏| 5940/6486 [00:57<00:03, 157.65it/s]"
     ]
    },
    {
     "name": "stdout",
     "output_type": "stream",
     "text": [
      "Syntax Error in file, skiping.  ../data/repos/michaelgruenstaeudl_&_EMBL2checklists/tests_&_output_test.py\n"
     ]
    },
    {
     "name": "stderr",
     "output_type": "stream",
     "text": [
      " 93%|█████████▎| 6043/6486 [00:58<00:02, 216.24it/s]"
     ]
    },
    {
     "name": "stdout",
     "output_type": "stream",
     "text": [
      "Syntax Error in file, skiping.  ../data/repos/ptchankue_&_KalturaGeneratedAPIClientsPython/KalturaClient_&_tests_&_test_playlist.py\n",
      "Syntax Error in file, skiping.  ../data/repos/ptchankue_&_KalturaGeneratedAPIClientsPython/KalturaClient_&_tests_&_test_functional.py\n"
     ]
    },
    {
     "name": "stderr",
     "output_type": "stream",
     "text": [
      " 95%|█████████▍| 6133/6486 [00:58<00:02, 172.32it/s]"
     ]
    },
    {
     "name": "stdout",
     "output_type": "stream",
     "text": [
      "Syntax Error in file, skiping.  ../data/repos/blaze_&_Castra/castra_&_tests_&_test_core.py\n"
     ]
    },
    {
     "name": "stderr",
     "output_type": "stream",
     "text": [
      " 96%|█████████▌| 6236/6486 [01:03<00:10, 23.96it/s] "
     ]
    },
    {
     "name": "stdout",
     "output_type": "stream",
     "text": [
      "Decode Error in file, skiping.  ../data/repos/Hatoris_&_BioPlate/tests_&_test_plate_db.py\n"
     ]
    },
    {
     "name": "stderr",
     "output_type": "stream",
     "text": [
      " 97%|█████████▋| 6260/6486 [01:03<00:05, 41.85it/s]"
     ]
    },
    {
     "name": "stdout",
     "output_type": "stream",
     "text": [
      "Decode Error in file, skiping.  ../data/repos/Hatoris_&_BioPlate/tests_&_test_plate_historic_db.py\n",
      "Decode Error in file, skiping.  ../data/repos/Hatoris_&_BioPlate/tests_&_test_plate.py\n"
     ]
    },
    {
     "name": "stderr",
     "output_type": "stream",
     "text": [
      " 99%|█████████▊| 6392/6486 [01:04<00:00, 98.22it/s] "
     ]
    },
    {
     "name": "stdout",
     "output_type": "stream",
     "text": [
      "Decode Error in file, skiping.  ../data/repos/roniemartinez_&_HumanFramework/tests_&_action_&_test_web_action.py\n"
     ]
    },
    {
     "name": "stderr",
     "output_type": "stream",
     "text": [
      "100%|█████████▉| 6463/6486 [01:05<00:00, 143.52it/s]"
     ]
    },
    {
     "name": "stdout",
     "output_type": "stream",
     "text": [
      "Decode Error in file, skiping.  ../data/repos/gjvnq_&_LabIFSC/tests_&_unidades_test.py\n",
      "Decode Error in file, skiping.  ../data/repos/gjvnq_&_LabIFSC/tests_&_medida_format_test.py\n",
      "Decode Error in file, skiping.  ../data/repos/AlanTaranti_&_Lomapy/tests_&_modelos_&_categoria_test.py\n",
      "Decode Error in file, skiping.  ../data/repos/AlanTaranti_&_Lomapy/tests_&_modelos_&_loja_test.py\n",
      "Decode Error in file, skiping.  ../data/repos/AlanTaranti_&_Lomapy/tests_&_modelos_&_oferta_test.py\n",
      "Decode Error in file, skiping.  ../data/repos/spacemanspiff2007_&_EasyCo/tests_&_test_container.py\n"
     ]
    },
    {
     "name": "stderr",
     "output_type": "stream",
     "text": [
      "100%|██████████| 6486/6486 [01:05<00:00, 98.98it/s] \n"
     ]
    },
    {
     "name": "stdout",
     "output_type": "stream",
     "text": [
      "\n",
      "Number of Functions:  11291\n",
      "Number of Tests:  40284\n",
      "Number of Flaky Tests:  0\n",
      "Number of Non Flaky Tests:  40284\n",
      "Syntax Error files 79 and Decode Error files 148\n"
     ]
    }
   ],
   "source": [
    "main()"
   ]
  },
  {
   "cell_type": "code",
   "execution_count": null,
   "id": "411be34b",
   "metadata": {},
   "outputs": [],
   "source": []
  },
  {
   "cell_type": "code",
   "execution_count": null,
   "id": "b9188ee5",
   "metadata": {},
   "outputs": [],
   "source": []
  },
  {
   "cell_type": "code",
   "execution_count": null,
   "id": "44dfe3c5",
   "metadata": {},
   "outputs": [],
   "source": []
  }
 ],
 "metadata": {
  "kernelspec": {
   "display_name": "Python 3",
   "language": "python",
   "name": "python3"
  },
  "language_info": {
   "codemirror_mode": {
    "name": "ipython",
    "version": 3
   },
   "file_extension": ".py",
   "mimetype": "text/x-python",
   "name": "python",
   "nbconvert_exporter": "python",
   "pygments_lexer": "ipython3",
   "version": "3.8.8"
  }
 },
 "nbformat": 4,
 "nbformat_minor": 5
}
