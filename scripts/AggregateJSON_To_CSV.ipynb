{
 "cells": [
  {
   "cell_type": "code",
   "execution_count": 6,
   "id": "e58da776",
   "metadata": {},
   "outputs": [],
   "source": [
    "from dataclasses import dataclass\n",
    "import json\n",
    "from pathlib import Path\n",
    "from typing import List, Optional\n",
    "\n",
    "import pandas as pd\n",
    "from dataclasses_json import dataclass_json, LetterCase\n",
    "import glob\n",
    "import os\n",
    "import tqdm\n",
    "\n"
   ]
  },
  {
   "cell_type": "code",
   "execution_count": 46,
   "id": "7a9526d7",
   "metadata": {},
   "outputs": [
    {
     "name": "stdout",
     "output_type": "stream",
     "text": [
      "Converted 321 JSON file(s).\n",
      "Aggregated result generated\n"
     ]
    }
   ],
   "source": [
    "\n",
    "@dataclass_json(letter_case=LetterCase.CAMEL)\n",
    "@dataclass\n",
    "class DetectorResult:\n",
    "    name: str\n",
    "    has_smell: bool\n",
    "\n",
    "\n",
    "@dataclass_json(letter_case=LetterCase.CAMEL)\n",
    "@dataclass\n",
    "class TestCaseResult:\n",
    "    name: str\n",
    "    detector_results: List[DetectorResult]\n",
    "    number_of_methods: Optional[int] = None\n",
    "\n",
    "\n",
    "@dataclass_json(letter_case=LetterCase.CAMEL)\n",
    "@dataclass\n",
    "class FileResult:\n",
    "    name: str\n",
    "    test_cases: List[TestCaseResult]\n",
    "\n",
    "\n",
    "@dataclass_json(letter_case=LetterCase.CAMEL)\n",
    "@dataclass\n",
    "class Result:\n",
    "    result: List[FileResult]\n",
    "\n",
    "\n",
    "# DETECTOR_OUTPUT = Path('/Users/hayasammaneh/Documents/Semester1_Courses/SOEN7481Testing/flaky/AllTests')\n",
    "DETECTOR_OUTPUT = Path(\"../data/repos_jsons\")\n",
    "JSON_FILE_PATHS = [p for p in DETECTOR_OUTPUT.iterdir() if p.is_file() and p.suffix == '.json']\n",
    "ALL_SMELLS = None\n",
    "\n",
    "count = 0\n",
    "REPO_DATA_FRAMES = []\n",
    "REPO_RESULTS = []\n",
    "for json_file_path in JSON_FILE_PATHS:\n",
    "    with json_file_path.open() as f:\n",
    "        json_str = f.read()\n",
    "\n",
    "    json_root = json.loads(json_str)\n",
    "    if isinstance(json_root, list):\n",
    "        json_root = {'result': json_root}\n",
    "        result = Result.from_json(json.dumps(json_root))\n",
    "    else:\n",
    "        result = Result.from_json(json_str)\n",
    "    lines = []\n",
    "    for test_file, test_case in ((tf, tc) for tf in result.result for tc in tf.test_cases):\n",
    "        line = [json_file_path.stem, test_file.name, test_case.name]\n",
    "\n",
    "        detector_results = sorted(test_case.detector_results, key=lambda dr: dr.name)\n",
    "        if ALL_SMELLS is None:\n",
    "            ALL_SMELLS = [dr.name for dr in detector_results]\n",
    "        else:\n",
    "            assert ALL_SMELLS == [dr.name for dr in detector_results]\n",
    "\n",
    "        for detector_result in detector_results:\n",
    "            line.append(detector_result.has_smell)\n",
    "\n",
    "        lines.append(line)\n",
    "   \n",
    "\n",
    "    if len(lines) !=0:\n",
    "        df = pd.DataFrame(lines, columns=['repo_name', 'test_file', 'test_case'] + ALL_SMELLS)\n",
    "        df.to_csv(json_file_path.parent / f'{json_file_path.stem}.csv', index=False)\n",
    "        REPO_DATA_FRAMES.append(df)\n",
    "        REPO_RESULTS.append(result)\n",
    "        count += 1\n",
    "        \n",
    "\n",
    "print(f'Converted {count} JSON file(s).')\n",
    "\n",
    "aggregated_lines = []\n",
    "for repo_df, result in zip(REPO_DATA_FRAMES, REPO_RESULTS):\n",
    "    if len(repo_df) == 0:\n",
    "        continue\n",
    "    repo_name = repo_df['repo_name'][0]\n",
    "    repo_test_file_count = len(result.result)\n",
    "    repo_test_case_count = sum(len(tf.test_cases) for tf in result.result)\n",
    "    repo_test_method_count = sum(tc.number_of_methods for tf in result.result for tc in tf.test_cases)\n",
    "    line = [repo_name, repo_test_file_count, repo_test_case_count, repo_test_method_count]\n",
    "\n",
    "    for smell in ALL_SMELLS:\n",
    "        line.append(sum(repo_df[smell]))\n",
    "    aggregated_lines.append(line)\n",
    "\n",
    "aggregated_df = pd.DataFrame(aggregated_lines, columns=['repo_name', 'test_file_count', 'test_case_count', 'test_method_count'] + ALL_SMELLS)\n",
    "aggregated_df.to_csv(JSON_FILE_PATHS[0].parent / 'aggregated.csv', index=False)\n",
    "print('Aggregated result generated')\n"
   ]
  },
  {
   "cell_type": "code",
   "execution_count": 47,
   "id": "e0315a85",
   "metadata": {},
   "outputs": [],
   "source": [
    "def aggregate_csvs_to_one_csv():\n",
    "    \n",
    "    DETECTOR_OUTPUT = Path(\"../data/repos_csvs\")\n",
    "    file_path=os.path.join(DETECTOR_OUTPUT,\"combined_csv.csv\")\n",
    "    \n",
    "    # remove the file of already exists\n",
    "    if os.path.exists(file_path):\n",
    "        os.remove(file_path)\n",
    "    \n",
    "    df_list=[]\n",
    "    all_files= glob.glob(os.path.join(DETECTOR_OUTPUT,\"*.csv\"))\n",
    "  \n",
    "    for csv_file in tqdm.tqdm(all_files):  \n",
    "        df=pd.read_csv(csv_file)\n",
    "        df_list.append(df)\n",
    "    result = pd.concat(df_list) \n",
    "    result = result.reset_index(drop=True)\n",
    "    print(result.shape)\n",
    "    result.to_csv(file_path,index=False)\n",
    "\n",
    "\n",
    "\n"
   ]
  },
  {
   "cell_type": "code",
   "execution_count": 48,
   "id": "cc215877",
   "metadata": {},
   "outputs": [
    {
     "name": "stderr",
     "output_type": "stream",
     "text": [
      "100%|██████████| 322/322 [00:00<00:00, 482.81it/s]\n"
     ]
    },
    {
     "name": "stdout",
     "output_type": "stream",
     "text": [
      "(2227, 24)\n"
     ]
    }
   ],
   "source": [
    "aggregate_csvs_to_one_csv()"
   ]
  },
  {
   "cell_type": "code",
   "execution_count": null,
   "id": "ebb70cc9",
   "metadata": {},
   "outputs": [],
   "source": []
  }
 ],
 "metadata": {
  "kernelspec": {
   "display_name": "Python 3",
   "language": "python",
   "name": "python3"
  },
  "language_info": {
   "codemirror_mode": {
    "name": "ipython",
    "version": 3
   },
   "file_extension": ".py",
   "mimetype": "text/x-python",
   "name": "python",
   "nbconvert_exporter": "python",
   "pygments_lexer": "ipython3",
   "version": "3.8.8"
  }
 },
 "nbformat": 4,
 "nbformat_minor": 5
}
