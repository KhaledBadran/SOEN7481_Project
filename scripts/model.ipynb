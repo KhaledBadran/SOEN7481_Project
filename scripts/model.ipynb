{
 "cells": [
  {
   "cell_type": "code",
   "execution_count": 17,
   "metadata": {},
   "outputs": [],
   "source": [
    "from collections import Counter\n",
    "from keras.preprocessing.text import Tokenizer\n",
    "from sklearn.ensemble import RandomForestClassifier \n",
    "from sklearn.metrics import precision_score \n",
    "from sklearn.metrics import recall_score \n",
    "from sklearn.model_selection import train_test_split\n",
    "from sklearn.model_selection import cross_validate\n",
    "from sklearn.model_selection import cross_val_predict\n",
    "from sklearn.metrics import make_scorer\n",
    "from sklearn.metrics import classification_report\n",
    "from sklearn.metrics import precision_recall_fscore_support\n",
    "from sklearn.metrics import confusion_matrix\n",
    "from sklearn.utils import shuffle\n",
    "from sklearn.feature_extraction.text import CountVectorizer\n",
    "from sklearn.feature_extraction.text import TfidfVectorizer\n",
    "from sklearn.metrics import ConfusionMatrixDisplay\n",
    "from tqdm import tqdm\n",
    "import sys\n",
    "import os\n",
    "import json \n",
    "import random\n",
    "import glob\n",
    "import pandas as pd\n",
    "import pickle\n",
    "import numpy as np\n",
    "from pprint import pprint,pformat\n",
    "from metricUtils import tn, fp, tp, fn, precision, recall, fpr, tpr, tnr, f1, auc, mcc\n",
    "import seaborn as sn\n",
    "import matplotlib.pyplot as plt\n",
    "from itertools import product"
   ]
  },
  {
   "cell_type": "code",
   "execution_count": 2,
   "metadata": {},
   "outputs": [],
   "source": [
    "# Define Test smells\n",
    "TEST_SMELLS=['AssertionRoulette', 'ConditionalTestLogic',\n",
    "       'ConstructorInitialization', 'DefaultTest', 'DuplicateAssertion',\n",
    "       'EmptyTest', 'ExceptionHandling', 'GeneralFixture', 'IgnoredTest',\n",
    "       'LackCohesion', 'MagicNumberTest', 'ObscureInLineSetup',\n",
    "       'RedundantAssertion', 'RedundantPrint', 'SleepyTest',\n",
    "       'SuboptimalAssert', 'TestMaverick', 'UnknownTest']"
   ]
  },
  {
   "cell_type": "code",
   "execution_count": 3,
   "metadata": {},
   "outputs": [
    {
     "data": {
      "text/plain": [
       "Index(['Unnamed: 0', 'repo_name', 'file_name', 'class_name', 'func_name',\n",
       "       'AssertionRoulette', 'ConditionalTestLogic',\n",
       "       'ConstructorInitialization', 'DefaultTest', 'DuplicateAssertion',\n",
       "       'EmptyTest', 'ExceptionHandling', 'GeneralFixture', 'IgnoredTest',\n",
       "       'LackCohesion', 'MagicNumberTest', 'ObscureInLineSetup',\n",
       "       'RedundantAssertion', 'RedundantPrint', 'SleepyTest',\n",
       "       'SuboptimalAssert', 'TestMaverick', 'UnknownTest', 'body', 'voc_size',\n",
       "       'important_voc', 'flaky'],\n",
       "      dtype='object')"
      ]
     },
     "execution_count": 3,
     "metadata": {},
     "output_type": "execute_result"
    }
   ],
   "source": [
    "# Read oracle data\n",
    "data=pd.read_csv('../data/oracle/oracle.csv')\n",
    "data.columns"
   ]
  },
  {
   "cell_type": "code",
   "execution_count": 5,
   "metadata": {},
   "outputs": [
    {
     "name": "stderr",
     "output_type": "stream",
     "text": [
      "10, 200, freq, 2000, False: 100%|█████████████████████████████████████████████████████████████████████████████████████████████████████| 64/64 [03:45<00:00,  3.53s/it]"
     ]
    },
    {
     "name": "stdout",
     "output_type": "stream",
     "text": [
      "\n",
      "Best configuration:\n",
      "{'F1': 0.9583634689336542,\n",
      " 'Precision': 0.9968285610728524,\n",
      " 'Recall': 0.9258474576271186,\n",
      " 'support': None,\n",
      " 'variables': {'lower_state': True,\n",
      "               'mode': 'binary',\n",
      "               'num_folds': 5,\n",
      "               'num_trees': 200,\n",
      "               'num_words': 2000}}\n",
      "\n",
      "Worst configuration:\n",
      "{'F1': 0.9349464356041461,\n",
      " 'Precision': 0.9900428619485657,\n",
      " 'Recall': 0.8917667706346581,\n",
      " 'support': None,\n",
      " 'variables': {'lower_state': True,\n",
      "               'mode': 'freq',\n",
      "               'num_folds': 5,\n",
      "               'num_trees': 200,\n",
      "               'num_words': 100}}\n"
     ]
    },
    {
     "name": "stderr",
     "output_type": "stream",
     "text": [
      "\n"
     ]
    }
   ],
   "source": [
    "np.random.seed(0)\n",
    "\n",
    "# Establish the configurations for the experiment\n",
    "num_folds = [5, 10]\n",
    "num_trees = [100, 200]\n",
    "modes = [\"binary\", \"count\", \"tfidf\", \"freq\"]\n",
    "num_words =[100, 2000]\n",
    "lower_states =[True, False]\n",
    "\n",
    "# get all combinations of the configurations\n",
    "configurations = list(product(num_folds, num_trees, modes, num_words, lower_states))\n",
    "\n",
    "# build a progress bar\n",
    "progress_bar = tqdm(configurations)\n",
    "\n",
    "final_scores = []\n",
    "\n",
    "for config in progress_bar:\n",
    "    folds, trees, mode, words, lower_state = config\n",
    "    progress_bar.set_description(f'{folds}, {trees}, {mode}, {words}, {lower_state}')\n",
    "\n",
    "    # Shuffle Data\n",
    "    data = shuffle(data, random_state=0)\n",
    "    \n",
    "    #extract test smells\n",
    "    data_test_smell=data[TEST_SMELLS]\n",
    "\n",
    "    # Building Tokenizer and Vocabulary\n",
    "    body = data['body'].values\n",
    "    tokenizer = Tokenizer(lower=lower_state, num_words=words, filters='\\'!\"#$%&()*+,-./:;<=>?@[\\\\]^_`{|}~\\t\\n')\n",
    "    tokenizer.fit_on_texts(body)\n",
    "    TK = tokenizer.texts_to_matrix(body, mode=mode)\n",
    "    TK_df = pd.DataFrame(data=TK)\n",
    "    X=pd.concat([data_test_smell, TK_df], axis=1)\n",
    "#     X = TK_df\n",
    "    y_true = data['flaky'].values\n",
    "\n",
    "    # Random Forest Model\n",
    "    rf = RandomForestClassifier(n_estimators = trees, random_state = 0) \n",
    "   \n",
    "    y_pred = cross_val_predict(rf, X, y_true, cv=folds, verbose=0, n_jobs=-1)\n",
    "    precision, recall, f1_score, support = precision_recall_fscore_support(y_true, y_pred, average='macro')\n",
    "    \n",
    "#     matrix = confusion_matrix(y_true, y_pred)\n",
    "#     print(matrix)\n",
    "#     print(precision, recall, f1_score, support)\n",
    "    \n",
    "    # Save score\n",
    "    o = {\n",
    "        \"variables\": {\n",
    "            \"num_folds\": folds,\n",
    "            \"num_trees\": trees,\n",
    "            \"mode\": mode,\n",
    "            \"num_words\": words,\n",
    "            \"lower_state\": lower_state\n",
    "\n",
    "        },\n",
    "        \"Precision\": precision,\n",
    "        \"Recall\": recall,\n",
    "        \"F1\": f1_score,\n",
    "        \"support\": support\n",
    "    }\n",
    "    final_scores.append(o)\n",
    "\n",
    "\n",
    "# Display final scores\n",
    "sorted_scores = sorted(final_scores, key=lambda x: x[\"F1\"], reverse=True)\n",
    "\n",
    "# Best / Worst config\n",
    "print(\"\\nBest configuration:\")\n",
    "pprint(sorted_scores[0])\n",
    "print(\"\\nWorst configuration:\")\n",
    "pprint(sorted_scores[-1])"
   ]
  },
  {
   "cell_type": "markdown",
   "metadata": {},
   "source": [
    "Best configuration for voc model:\n",
    "{'F1': 0.9598179007753476,\n",
    " 'Precision': 0.9945571791726664,\n",
    " 'Recall': 0.9299935548088545,\n",
    " 'support': None,\n",
    " 'variables': {'lower_state': False,\n",
    "               'mode': 'count',\n",
    "               'num_folds': 10,\n",
    "               'num_trees': 100,\n",
    "               'num_words': 2000}}"
   ]
  },
  {
   "cell_type": "markdown",
   "metadata": {},
   "source": [
    "Best configuration:\n",
    "{'F1': 0.9583634689336542,\n",
    " 'Precision': 0.9968285610728524,\n",
    " 'Recall': 0.9258474576271186,\n",
    " 'support': None,\n",
    " 'variables': {'lower_state': True,\n",
    "               'mode': 'binary',\n",
    "               'num_folds': 5,\n",
    "               'num_trees': 200,\n",
    "               'num_words': 2000}}"
   ]
  },
  {
   "cell_type": "code",
   "execution_count": 18,
   "metadata": {},
   "outputs": [
    {
     "name": "stderr",
     "output_type": "stream",
     "text": [
      "c:\\users\\q0ha\\documents\\repos\\soen7481_project\\venv\\lib\\site-packages\\sklearn\\utils\\validation.py:1675: FutureWarning: Feature names only support names that are all strings. Got feature names with dtypes: ['int', 'str']. An error will be raised in 1.2.\n",
      "  warnings.warn(\n"
     ]
    }
   ],
   "source": [
    "# create the best combined appraoch model\n",
    "body = data['body'].values\n",
    "tokenizer = Tokenizer(lower=True, num_words=2000, filters='\\'!\"#$%&()*+,-./:;<=>?@[\\\\]^_`{|}~\\t\\n')\n",
    "tokenizer.fit_on_texts(body)\n",
    "TK = tokenizer.texts_to_matrix(body, mode='binary')\n",
    "TK_df = pd.DataFrame(data=TK)\n",
    "X=pd.concat([data_test_smell, TK_df], axis=1)\n",
    "y_true = data['flaky'].values\n",
    "\n",
    "combined_model_best_rf = RandomForestClassifier(n_estimators=200, random_state = 0).fit(X, y_true)"
   ]
  },
  {
   "cell_type": "code",
   "execution_count": 19,
   "metadata": {},
   "outputs": [],
   "source": [
    "# Evaluate the best combined appraoch model\n",
    "# feature_importances = pd.DataFrame(combined_model_best_rf.feature_importances_, index =X.columns,  columns=['importance']).sort_values('importance', ascending=False)\n",
    "y_pred = cross_val_predict(combined_model_best_rf, X, y_true, cv=folds, verbose=0, n_jobs=-1)\n",
    "\n",
    "# combined_model_best_rf.feature_importances_"
   ]
  },
  {
   "cell_type": "code",
   "execution_count": 22,
   "metadata": {},
   "outputs": [
    {
     "data": {
      "text/plain": [
       "<sklearn.metrics._plot.confusion_matrix.ConfusionMatrixDisplay at 0x15d58712730>"
      ]
     },
     "execution_count": 22,
     "metadata": {},
     "output_type": "execute_result"
    },
    {
     "data": {
      "image/png": "[encoded data removed]",
      "text/plain": [
       "<Figure size 432x288 with 2 Axes>"
      ]
     },
     "metadata": {
      "needs_background": "light"
     },
     "output_type": "display_data"
    }
   ],
   "source": [
    "ConfusionMatrixDisplay.from_predictions(y_true, y_pred)"
   ]
  },
  {
   "cell_type": "code",
   "execution_count": null,
   "metadata": {},
   "outputs": [],
   "source": []
  }
 ],
 "metadata": {
  "kernelspec": {
   "display_name": "Python 3 (ipykernel)",
   "language": "python",
   "name": "python3"
  },
  "language_info": {
   "codemirror_mode": {
    "name": "ipython",
    "version": 3
   },
   "file_extension": ".py",
   "mimetype": "text/x-python",
   "name": "python",
   "nbconvert_exporter": "python",
   "pygments_lexer": "ipython3",
   "version": "3.8.6"
  }
 },
 "nbformat": 4,
 "nbformat_minor": 1
}